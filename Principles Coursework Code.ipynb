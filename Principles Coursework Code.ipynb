{
 "cells": [
  {
   "cell_type": "markdown",
   "metadata": {},
   "source": [
    "<div style=\"text-align: right\"><b>Yasmin Buzari <br> INM430 - Principles of Data Science </br> </b></div>"
   ]
  },
  {
   "cell_type": "markdown",
   "metadata": {},
   "source": [
    "# <center>Exploring Capital Bikeshare Commuting Behaviour </center> \n",
    "***"
   ]
  },
  {
   "cell_type": "markdown",
   "metadata": {},
   "source": [
    "## Table of Contents"
   ]
  },
  {
   "cell_type": "markdown",
   "metadata": {},
   "source": [
    "Data Loading <br>\n",
    "Data processing and Feature Engineering <br>\n",
    "Commuting Behaviour Analysis <br>\n",
    "Bikeshare Station Analysis <br> \n",
    "Trip Duration Analysis\n",
    "***\n"
   ]
  },
  {
   "cell_type": "markdown",
   "metadata": {},
   "source": [
    "### Data Loading and Initial Observations"
   ]
  },
  {
   "cell_type": "markdown",
   "metadata": {},
   "source": [
    "For our analysis, we will analyze bikeshare trips over a year by capital bikeshare in 2017. The data downloaded is by quarter, so we will merge the .csv's together to form one single file. "
   ]
  },
  {
   "cell_type": "code",
   "execution_count": 2,
   "metadata": {},
   "outputs": [
    {
     "data": {
      "text/html": [
       "<div>\n",
       "<style scoped>\n",
       "    .dataframe tbody tr th:only-of-type {\n",
       "        vertical-align: middle;\n",
       "    }\n",
       "\n",
       "    .dataframe tbody tr th {\n",
       "        vertical-align: top;\n",
       "    }\n",
       "\n",
       "    .dataframe thead th {\n",
       "        text-align: right;\n",
       "    }\n",
       "</style>\n",
       "<table border=\"1\" class=\"dataframe\">\n",
       "  <thead>\n",
       "    <tr style=\"text-align: right;\">\n",
       "      <th></th>\n",
       "      <th>Duration</th>\n",
       "      <th>Start date</th>\n",
       "      <th>End date</th>\n",
       "      <th>Start station number</th>\n",
       "      <th>Start station</th>\n",
       "      <th>End station number</th>\n",
       "      <th>End station</th>\n",
       "      <th>Bike number</th>\n",
       "      <th>Member type</th>\n",
       "    </tr>\n",
       "  </thead>\n",
       "  <tbody>\n",
       "    <tr>\n",
       "      <th>0</th>\n",
       "      <td>221</td>\n",
       "      <td>2017-01-01 00:00:41</td>\n",
       "      <td>2017-01-01 00:04:23</td>\n",
       "      <td>31634</td>\n",
       "      <td>3rd &amp; Tingey St SE</td>\n",
       "      <td>31208</td>\n",
       "      <td>M St &amp; New Jersey Ave SE</td>\n",
       "      <td>W00869</td>\n",
       "      <td>Member</td>\n",
       "    </tr>\n",
       "    <tr>\n",
       "      <th>1</th>\n",
       "      <td>1676</td>\n",
       "      <td>2017-01-01 00:06:53</td>\n",
       "      <td>2017-01-01 00:34:49</td>\n",
       "      <td>31258</td>\n",
       "      <td>Lincoln Memorial</td>\n",
       "      <td>31270</td>\n",
       "      <td>8th &amp; D St NW</td>\n",
       "      <td>W00894</td>\n",
       "      <td>Casual</td>\n",
       "    </tr>\n",
       "    <tr>\n",
       "      <th>2</th>\n",
       "      <td>1356</td>\n",
       "      <td>2017-01-01 00:07:10</td>\n",
       "      <td>2017-01-01 00:29:47</td>\n",
       "      <td>31289</td>\n",
       "      <td>Henry Bacon Dr &amp; Lincoln Memorial Circle NW</td>\n",
       "      <td>31222</td>\n",
       "      <td>New York Ave &amp; 15th St NW</td>\n",
       "      <td>W21945</td>\n",
       "      <td>Casual</td>\n",
       "    </tr>\n",
       "    <tr>\n",
       "      <th>3</th>\n",
       "      <td>1327</td>\n",
       "      <td>2017-01-01 00:07:22</td>\n",
       "      <td>2017-01-01 00:29:30</td>\n",
       "      <td>31289</td>\n",
       "      <td>Henry Bacon Dr &amp; Lincoln Memorial Circle NW</td>\n",
       "      <td>31222</td>\n",
       "      <td>New York Ave &amp; 15th St NW</td>\n",
       "      <td>W20012</td>\n",
       "      <td>Casual</td>\n",
       "    </tr>\n",
       "    <tr>\n",
       "      <th>4</th>\n",
       "      <td>1636</td>\n",
       "      <td>2017-01-01 00:07:36</td>\n",
       "      <td>2017-01-01 00:34:52</td>\n",
       "      <td>31258</td>\n",
       "      <td>Lincoln Memorial</td>\n",
       "      <td>31270</td>\n",
       "      <td>8th &amp; D St NW</td>\n",
       "      <td>W22786</td>\n",
       "      <td>Casual</td>\n",
       "    </tr>\n",
       "    <tr>\n",
       "      <th>5</th>\n",
       "      <td>1603</td>\n",
       "      <td>2017-01-01 00:08:11</td>\n",
       "      <td>2017-01-01 00:34:55</td>\n",
       "      <td>31258</td>\n",
       "      <td>Lincoln Memorial</td>\n",
       "      <td>31270</td>\n",
       "      <td>8th &amp; D St NW</td>\n",
       "      <td>W20890</td>\n",
       "      <td>Casual</td>\n",
       "    </tr>\n",
       "    <tr>\n",
       "      <th>6</th>\n",
       "      <td>473</td>\n",
       "      <td>2017-01-01 00:08:36</td>\n",
       "      <td>2017-01-01 00:16:29</td>\n",
       "      <td>31611</td>\n",
       "      <td>13th &amp; H St NE</td>\n",
       "      <td>31616</td>\n",
       "      <td>3rd &amp; H St NE</td>\n",
       "      <td>W20340</td>\n",
       "      <td>Member</td>\n",
       "    </tr>\n",
       "    <tr>\n",
       "      <th>7</th>\n",
       "      <td>200</td>\n",
       "      <td>2017-01-01 00:11:07</td>\n",
       "      <td>2017-01-01 00:14:27</td>\n",
       "      <td>31104</td>\n",
       "      <td>Adams Mill &amp; Columbia Rd NW</td>\n",
       "      <td>31121</td>\n",
       "      <td>Calvert St &amp; Woodley Pl NW</td>\n",
       "      <td>W20398</td>\n",
       "      <td>Member</td>\n",
       "    </tr>\n",
       "    <tr>\n",
       "      <th>8</th>\n",
       "      <td>748</td>\n",
       "      <td>2017-01-01 00:13:20</td>\n",
       "      <td>2017-01-01 00:25:49</td>\n",
       "      <td>31041</td>\n",
       "      <td>Prince St &amp; Union St</td>\n",
       "      <td>31097</td>\n",
       "      <td>Saint Asaph &amp; Madison St</td>\n",
       "      <td>W00365</td>\n",
       "      <td>Member</td>\n",
       "    </tr>\n",
       "    <tr>\n",
       "      <th>9</th>\n",
       "      <td>912</td>\n",
       "      <td>2017-01-01 00:14:35</td>\n",
       "      <td>2017-01-01 00:29:48</td>\n",
       "      <td>31202</td>\n",
       "      <td>14th &amp; R St NW</td>\n",
       "      <td>31505</td>\n",
       "      <td>Eckington Pl &amp; Q St NE</td>\n",
       "      <td>W20771</td>\n",
       "      <td>Member</td>\n",
       "    </tr>\n",
       "  </tbody>\n",
       "</table>\n",
       "</div>"
      ],
      "text/plain": [
       "   Duration          Start date            End date  Start station number  \\\n",
       "0       221 2017-01-01 00:00:41 2017-01-01 00:04:23                 31634   \n",
       "1      1676 2017-01-01 00:06:53 2017-01-01 00:34:49                 31258   \n",
       "2      1356 2017-01-01 00:07:10 2017-01-01 00:29:47                 31289   \n",
       "3      1327 2017-01-01 00:07:22 2017-01-01 00:29:30                 31289   \n",
       "4      1636 2017-01-01 00:07:36 2017-01-01 00:34:52                 31258   \n",
       "5      1603 2017-01-01 00:08:11 2017-01-01 00:34:55                 31258   \n",
       "6       473 2017-01-01 00:08:36 2017-01-01 00:16:29                 31611   \n",
       "7       200 2017-01-01 00:11:07 2017-01-01 00:14:27                 31104   \n",
       "8       748 2017-01-01 00:13:20 2017-01-01 00:25:49                 31041   \n",
       "9       912 2017-01-01 00:14:35 2017-01-01 00:29:48                 31202   \n",
       "\n",
       "                                 Start station  End station number  \\\n",
       "0                           3rd & Tingey St SE               31208   \n",
       "1                             Lincoln Memorial               31270   \n",
       "2  Henry Bacon Dr & Lincoln Memorial Circle NW               31222   \n",
       "3  Henry Bacon Dr & Lincoln Memorial Circle NW               31222   \n",
       "4                             Lincoln Memorial               31270   \n",
       "5                             Lincoln Memorial               31270   \n",
       "6                               13th & H St NE               31616   \n",
       "7                  Adams Mill & Columbia Rd NW               31121   \n",
       "8                         Prince St & Union St               31097   \n",
       "9                               14th & R St NW               31505   \n",
       "\n",
       "                  End station Bike number Member type  \n",
       "0    M St & New Jersey Ave SE      W00869      Member  \n",
       "1               8th & D St NW      W00894      Casual  \n",
       "2   New York Ave & 15th St NW      W21945      Casual  \n",
       "3   New York Ave & 15th St NW      W20012      Casual  \n",
       "4               8th & D St NW      W22786      Casual  \n",
       "5               8th & D St NW      W20890      Casual  \n",
       "6               3rd & H St NE      W20340      Member  \n",
       "7  Calvert St & Woodley Pl NW      W20398      Member  \n",
       "8    Saint Asaph & Madison St      W00365      Member  \n",
       "9      Eckington Pl & Q St NE      W20771      Member  "
      ]
     },
     "execution_count": 2,
     "metadata": {},
     "output_type": "execute_result"
    }
   ],
   "source": [
    "#importing libraries\n",
    "import os\n",
    "import glob\n",
    "import pandas as pd\n",
    "%matplotlib inline\n",
    "import matplotlib.pyplot as plt\n",
    "import seaborn as sns; sns.set()\n",
    "import numpy as np\n",
    "\n",
    "#matching all quarter csv's using glob library\n",
    "#specifying file format as .csv\n",
    "extension = 'csv'\n",
    "files = [i for i in glob.glob('*.{}'.format(extension))]\n",
    "\n",
    "#combine all quarter files into single .csv\n",
    "tripdata_2017 = pd.concat([pd.read_csv(f) for f in files ])\n",
    "\n",
    "#exporting file\n",
    "tripdata_2017.to_csv( \"tripdata_2017.csv\", index=False, encoding='utf-8-sig')\n",
    "\n",
    "#creating data frame\n",
    "#parsing start and end date into correct date type\n",
    "trips2017 = pd.read_csv(\"tripdata_2017.csv\" , parse_dates=['Start date' , 'End date'] ,\n",
    "                       infer_datetime_format=True)\n",
    "\n",
    "\n",
    "#print 10 rows for initial view\n",
    "trips2017.head(10)\n"
   ]
  },
  {
   "cell_type": "markdown",
   "metadata": {},
   "source": [
    "**Data Specification:**\n",
    "\n",
    "The bikeshare data downloaded from capital bikeshare has already been processed to remove trips that have been taken by staff members, 'test' trips to bike warehouses and docks, and trips lasting less than 60 seconds which would be a false trip where users re-dock a bike to check its locked properly. The data was downloaded in .csv format from the following: https://www.capitalbikeshare.com/system-data"
   ]
  },
  {
   "cell_type": "code",
   "execution_count": 3,
   "metadata": {},
   "outputs": [
    {
     "data": {
      "text/plain": [
       "(3757777, 9)"
      ]
     },
     "execution_count": 3,
     "metadata": {},
     "output_type": "execute_result"
    }
   ],
   "source": [
    "trips2017.shape"
   ]
  },
  {
   "cell_type": "markdown",
   "metadata": {},
   "source": [
    "**Statistical Findings between Casual and Member Riders**"
   ]
  },
  {
   "cell_type": "code",
   "execution_count": 4,
   "metadata": {},
   "outputs": [
    {
     "name": "stdout",
     "output_type": "stream",
     "text": [
      "The difference in bike ride times for reacreational riders vs members is 27.04 minutes.\n"
     ]
    }
   ],
   "source": [
    "#import libraries\n",
    "import numpy as np\n",
    "import scipy.stats as stat\n",
    "\n",
    "#transforming trip duration into appropriate format in data frame\n",
    "trips2017['minutes'] = trips2017.Duration / 60 \n",
    "\n",
    "#specifying members and casual riders with duration in minutes\n",
    "membersrd = trips2017[trips2017['Member type'] == 'Member']['minutes']\n",
    "casualrd = trips2017[trips2017['Member type'] == 'Casual']['minutes']\n",
    "\n",
    "#calculating the mean trip duration in minutes for each class\n",
    "casualrd_mean = np.mean(casualrd)\n",
    "membersrd_mean = np.mean(membersrd)\n",
    "\n",
    "#calculating the difference of means\n",
    "calc = casualrd_mean - membersrd_mean\n",
    "print('The difference in bike ride times for reacreational riders vs members is ' + \n",
    "      str(round(calc, 2)) + ' minutes.')"
   ]
  },
  {
   "cell_type": "markdown",
   "metadata": {},
   "source": [
    "We can see a big difference in ride times for casual riders vs. members, from this we can test a null and experimental hypothesis to guide our analysis on the relationship between the two class members. Our hypotheses' are below <br>\n",
    "\n",
    "**Experimental Hypothesis: The difference in the mean of trip times between members and casual riders are different.**\n",
    "- This will confirm some assumptions of this project, that commuting behaviours differ between these two members and as such bikeshare scheme's can enhance user experience with this information.\n",
    "\n",
    "**Null Hypothesis: The difference in the mean of trip times between members and casual riders are equal.**\n",
    "- This will indicate that there is a small difference in commuting behaviours between registered and casual riders, and our analysis should focus more on trip patterns rather than differences between the users.\n",
    " "
   ]
  },
  {
   "cell_type": "markdown",
   "metadata": {},
   "source": [
    "To test the two, we use inferential statistics and P value to determine the significant differences"
   ]
  },
  {
   "cell_type": "code",
   "execution_count": 5,
   "metadata": {},
   "outputs": [
    {
     "name": "stdout",
     "output_type": "stream",
     "text": [
      "The P value is:  0.0\n",
      "The 95% confidence interval between the two classes (26.923156972705367, 27.155374300038734) minutes.\n"
     ]
    }
   ],
   "source": [
    "#using numpy stat.ttest for casual and member riders\n",
    "ttest = stat.ttest_ind(casualrd, membersrd, equal_var=False)\n",
    "pval = ttest[1]\n",
    "print('The P value is: ', pval)\n",
    "\n",
    "#calculate standard deviation of member and casual class\n",
    "casualstd = casualrd.std()\n",
    "membersstd = membersrd.std()\n",
    "\n",
    "m1 = (membersstd ** 2) / len(membersrd)\n",
    "c1 = (casualstd ** 2) / len(casualrd)\n",
    "\n",
    "\n",
    "#using numpy, calculate the square root of casual and members\n",
    "standarderror = np.sqrt(c1 + m1)\n",
    "\n",
    "#using stat.t, calculate confidence interval from above output\n",
    "confidence_interval = stat.t.interval(0.95, len(casualrd) - 1, loc=calc, scale=standarderror)\n",
    "\n",
    "print('The 95% confidence interval between the two classes ' + str (confidence_interval) + ' minutes.')"
   ]
  },
  {
   "cell_type": "markdown",
   "metadata": {},
   "source": [
    "**Observations:**\n",
    "Since the p-value < 0.00001, we can safely reject the null hypothesis and continue to explore our experimental hypothesis. Because we have calculated the statistics based on the mean of our entire data set, we can also observe the confidence interval of the difference in ride time minutes. \n",
    "\n",
    "We see here that the ride time difference will not go below 26.932 and above 27.155 minutes. \n",
    "The confidence interval helps us see the range whereby the different ride time may vary. This is done to give us an initial understanding of the user group, and to differentiate between them as we progress our analysis. "
   ]
  },
  {
   "cell_type": "markdown",
   "metadata": {},
   "source": [
    "***\n",
    "### Data Processing"
   ]
  },
  {
   "cell_type": "markdown",
   "metadata": {},
   "source": [
    "To perform our analysis, we will transform some data features and adapt it to gain an understanding of commuting patterns between our two user groups. We have already converted our 'start' and 'end' date to an appropriate date time index in the data loading section, other changes in the data frame include: \n",
    "\n",
    "- Adding trip ID's\n",
    "- Converting trip duration\n",
    "- Dropping unnecessary column's\n",
    "- Geo-coding longitude and latitude for stations\n"
   ]
  },
  {
   "cell_type": "code",
   "execution_count": 6,
   "metadata": {},
   "outputs": [
    {
     "data": {
      "text/html": [
       "<div>\n",
       "<style scoped>\n",
       "    .dataframe tbody tr th:only-of-type {\n",
       "        vertical-align: middle;\n",
       "    }\n",
       "\n",
       "    .dataframe tbody tr th {\n",
       "        vertical-align: top;\n",
       "    }\n",
       "\n",
       "    .dataframe thead th {\n",
       "        text-align: right;\n",
       "    }\n",
       "</style>\n",
       "<table border=\"1\" class=\"dataframe\">\n",
       "  <thead>\n",
       "    <tr style=\"text-align: right;\">\n",
       "      <th></th>\n",
       "      <th>Duration</th>\n",
       "      <th>Start date</th>\n",
       "      <th>End date</th>\n",
       "      <th>Start station number</th>\n",
       "      <th>Start station</th>\n",
       "      <th>End station number</th>\n",
       "      <th>End station</th>\n",
       "      <th>Bike number</th>\n",
       "      <th>Member type</th>\n",
       "      <th>minutes</th>\n",
       "      <th>trip_id</th>\n",
       "    </tr>\n",
       "  </thead>\n",
       "  <tbody>\n",
       "    <tr>\n",
       "      <th>0</th>\n",
       "      <td>221</td>\n",
       "      <td>2017-01-01 00:00:41</td>\n",
       "      <td>2017-01-01 00:04:23</td>\n",
       "      <td>31634</td>\n",
       "      <td>3rd &amp; Tingey St SE</td>\n",
       "      <td>31208</td>\n",
       "      <td>M St &amp; New Jersey Ave SE</td>\n",
       "      <td>W00869</td>\n",
       "      <td>Member</td>\n",
       "      <td>3.683333</td>\n",
       "      <td>1</td>\n",
       "    </tr>\n",
       "    <tr>\n",
       "      <th>1</th>\n",
       "      <td>1676</td>\n",
       "      <td>2017-01-01 00:06:53</td>\n",
       "      <td>2017-01-01 00:34:49</td>\n",
       "      <td>31258</td>\n",
       "      <td>Lincoln Memorial</td>\n",
       "      <td>31270</td>\n",
       "      <td>8th &amp; D St NW</td>\n",
       "      <td>W00894</td>\n",
       "      <td>Casual</td>\n",
       "      <td>27.933333</td>\n",
       "      <td>2</td>\n",
       "    </tr>\n",
       "    <tr>\n",
       "      <th>2</th>\n",
       "      <td>1356</td>\n",
       "      <td>2017-01-01 00:07:10</td>\n",
       "      <td>2017-01-01 00:29:47</td>\n",
       "      <td>31289</td>\n",
       "      <td>Henry Bacon Dr &amp; Lincoln Memorial Circle NW</td>\n",
       "      <td>31222</td>\n",
       "      <td>New York Ave &amp; 15th St NW</td>\n",
       "      <td>W21945</td>\n",
       "      <td>Casual</td>\n",
       "      <td>22.600000</td>\n",
       "      <td>3</td>\n",
       "    </tr>\n",
       "    <tr>\n",
       "      <th>3</th>\n",
       "      <td>1327</td>\n",
       "      <td>2017-01-01 00:07:22</td>\n",
       "      <td>2017-01-01 00:29:30</td>\n",
       "      <td>31289</td>\n",
       "      <td>Henry Bacon Dr &amp; Lincoln Memorial Circle NW</td>\n",
       "      <td>31222</td>\n",
       "      <td>New York Ave &amp; 15th St NW</td>\n",
       "      <td>W20012</td>\n",
       "      <td>Casual</td>\n",
       "      <td>22.116667</td>\n",
       "      <td>4</td>\n",
       "    </tr>\n",
       "    <tr>\n",
       "      <th>4</th>\n",
       "      <td>1636</td>\n",
       "      <td>2017-01-01 00:07:36</td>\n",
       "      <td>2017-01-01 00:34:52</td>\n",
       "      <td>31258</td>\n",
       "      <td>Lincoln Memorial</td>\n",
       "      <td>31270</td>\n",
       "      <td>8th &amp; D St NW</td>\n",
       "      <td>W22786</td>\n",
       "      <td>Casual</td>\n",
       "      <td>27.266667</td>\n",
       "      <td>5</td>\n",
       "    </tr>\n",
       "  </tbody>\n",
       "</table>\n",
       "</div>"
      ],
      "text/plain": [
       "   Duration          Start date            End date  Start station number  \\\n",
       "0       221 2017-01-01 00:00:41 2017-01-01 00:04:23                 31634   \n",
       "1      1676 2017-01-01 00:06:53 2017-01-01 00:34:49                 31258   \n",
       "2      1356 2017-01-01 00:07:10 2017-01-01 00:29:47                 31289   \n",
       "3      1327 2017-01-01 00:07:22 2017-01-01 00:29:30                 31289   \n",
       "4      1636 2017-01-01 00:07:36 2017-01-01 00:34:52                 31258   \n",
       "\n",
       "                                 Start station  End station number  \\\n",
       "0                           3rd & Tingey St SE               31208   \n",
       "1                             Lincoln Memorial               31270   \n",
       "2  Henry Bacon Dr & Lincoln Memorial Circle NW               31222   \n",
       "3  Henry Bacon Dr & Lincoln Memorial Circle NW               31222   \n",
       "4                             Lincoln Memorial               31270   \n",
       "\n",
       "                 End station Bike number Member type    minutes  trip_id  \n",
       "0   M St & New Jersey Ave SE      W00869      Member   3.683333        1  \n",
       "1              8th & D St NW      W00894      Casual  27.933333        2  \n",
       "2  New York Ave & 15th St NW      W21945      Casual  22.600000        3  \n",
       "3  New York Ave & 15th St NW      W20012      Casual  22.116667        4  \n",
       "4              8th & D St NW      W22786      Casual  27.266667        5  "
      ]
     },
     "execution_count": 6,
     "metadata": {},
     "output_type": "execute_result"
    }
   ],
   "source": [
    "#creating trip id column\n",
    "trips2017[\"trip_id\"] = trips2017.index + 1\n",
    "\n",
    "trips2017.head(5)"
   ]
  },
  {
   "cell_type": "code",
   "execution_count": 7,
   "metadata": {},
   "outputs": [
    {
     "data": {
      "text/plain": [
       "Duration                0\n",
       "Start date              0\n",
       "End date                0\n",
       "Start station number    0\n",
       "Start station           0\n",
       "End station number      0\n",
       "End station             0\n",
       "Bike number             0\n",
       "Member type             0\n",
       "minutes                 0\n",
       "trip_id                 0\n",
       "dtype: int64"
      ]
     },
     "execution_count": 7,
     "metadata": {},
     "output_type": "execute_result"
    }
   ],
   "source": [
    "#checking for any missing values \n",
    "trips2017.isnull().sum()"
   ]
  },
  {
   "cell_type": "markdown",
   "metadata": {},
   "source": [
    "Comment: Our data set contain's no missing value"
   ]
  },
  {
   "cell_type": "code",
   "execution_count": 8,
   "metadata": {},
   "outputs": [
    {
     "name": "stdout",
     "output_type": "stream",
     "text": [
      "<class 'pandas.core.frame.DataFrame'>\n",
      "RangeIndex: 3757777 entries, 0 to 3757776\n",
      "Data columns (total 11 columns):\n",
      "Duration                int64\n",
      "Start date              datetime64[ns]\n",
      "End date                datetime64[ns]\n",
      "Start station number    int64\n",
      "Start station           object\n",
      "End station number      int64\n",
      "End station             object\n",
      "Bike number             object\n",
      "Member type             object\n",
      "minutes                 float64\n",
      "trip_id                 int64\n",
      "dtypes: datetime64[ns](2), float64(1), int64(4), object(4)\n",
      "memory usage: 315.4+ MB\n"
     ]
    }
   ],
   "source": [
    "#checking data types for analysis\n",
    "trips2017.info()"
   ]
  },
  {
   "cell_type": "markdown",
   "metadata": {},
   "source": [
    "***"
   ]
  },
  {
   "cell_type": "markdown",
   "metadata": {},
   "source": [
    "### Exploring Trends in Bikeshare Trips "
   ]
  },
  {
   "cell_type": "markdown",
   "metadata": {},
   "source": [
    "Lets look at initial trends between casual and member riders, at this stage we are interested to see the difference in ridership throughout the year, based on our statistical findings on the differences of trip duration."
   ]
  },
  {
   "cell_type": "code",
   "execution_count": 9,
   "metadata": {},
   "outputs": [
    {
     "data": {
      "image/png": "[encoded data removed]",
      "text/plain": [
       "<Figure size 1440x720 with 2 Axes>"
      ]
     },
     "metadata": {},
     "output_type": "display_data"
    }
   ],
   "source": [
    "#importing libraries\n",
    "\n",
    "%matplotlib inline\n",
    "import matplotlib.pyplot as plt\n",
    "import seaborn as sns; sns.set()\n",
    "import numpy as np\n",
    "\n",
    "# Finding start date and set to sd1, set date and hour\n",
    "sd1 = pd.DatetimeIndex(trips2017['Start date'])\n",
    "trips2017['hour'] = sd1.hour\n",
    "trips2017['date'] = sd1.date.astype('datetime64')\n",
    "\n",
    "\n",
    "# Count trips in main data frame to plot for y axis \n",
    "cdate = trips2017.pivot_table('trip_id', aggfunc='count',\n",
    "                            index='date',\n",
    "                            columns='Member type', )\n",
    "\n",
    "#plot sublots for each class, adjust spacing\n",
    "fig, ax = plt.subplots (2, figsize=(20, 10))\n",
    "fig.subplots_adjust(hspace=0.7)\n",
    "\n",
    "#iloc to plot memebers and casual riders\n",
    "cdate.iloc[:, 1].plot(ax=ax[1], title='Bikeshare Members');\n",
    "cdate.iloc[:, 0].plot(ax=ax[0], title='Casual Riders');\n"
   ]
  },
  {
   "cell_type": "markdown",
   "metadata": {},
   "source": [
    "**Observations:** We can see that the main difference throughout the year between both classes is the number of trips taken. The y axis shows the number of trips taken. We can also see that for casual riders, there are less frequent trips taken between the months Jan - Apr and Nov-Dec. This can be due to holiday season's. Conversely, there is a higher frequency of trips taken by members year round which gives us an indication that members do indeed use bikeshare as a viable means of transport for daily work commute. We will expand further in the report"
   ]
  },
  {
   "cell_type": "markdown",
   "metadata": {},
   "source": [
    "At this stage, it would be interesting to observe by week, the average number of trips between the two user groups."
   ]
  },
  {
   "cell_type": "markdown",
   "metadata": {},
   "source": [
    "**Exploring Average Weekly Trips**"
   ]
  },
  {
   "cell_type": "code",
   "execution_count": 10,
   "metadata": {},
   "outputs": [
    {
     "data": {
      "text/plain": [
       "<Figure size 1440x720 with 0 Axes>"
      ]
     },
     "metadata": {},
     "output_type": "display_data"
    },
    {
     "data": {
      "image/png": "[encoded data removed]",
      "text/plain": [
       "<Figure size 432x288 with 1 Axes>"
      ]
     },
     "metadata": {},
     "output_type": "display_data"
    }
   ],
   "source": [
    "#\n",
    "weekday = cdate.groupby([cdate.index.dayofweek]).mean()\n",
    "week = cdate.groupby([cdate.index.week]).mean()\n",
    "\n",
    "\n",
    "# plot the data\n",
    "fig = plt.figure( figsize = (20,10),);\n",
    "weekday.plot(title ='The Average Trips for each Day of the Week',);\n",
    "\n",
    "#Set axes labels \n",
    "plt.gca().set_xticklabels(\\\n",
    "    ['Monday','Tuesday','Wednesday','Thursday','Friday','Saturday','Sunday']);\n"
   ]
  },
  {
   "cell_type": "markdown",
   "metadata": {},
   "source": [
    "**Observations:** An interesting trend to highlight here is the drop in trips made by member riders, and the increase for casual riders from friday. It is also interesting to see the gap in trips taken between the two classes. Following from these observations on trip frequency, we can identify which stations have the most frequent users, and try to get a better understanding between station locations and trip frequency. "
   ]
  },
  {
   "cell_type": "markdown",
   "metadata": {},
   "source": [
    "***\n",
    "## Station Location Observations\n"
   ]
  },
  {
   "cell_type": "markdown",
   "metadata": {},
   "source": [
    "Having done initial analysis on how members and casual riders differ in terms of ride time and distance, lets start to picture how these commute trips look geographically on a map. First we geo-code the station locations using the geopy library, to derive longitude and latitude information. For this project, the code has been adapted from the following published article found here: https://towardsdatascience.com/geocode-with-python-161ec1e62b89. \n",
    "\n",
    "We will be using the Nominatum Geocoding service that is built on top of Open Street Map. To do this we create a geocoding function that we pass for each station to give us the long, lat output. One thing to consider, is the incorrect addresses that may be returned. Because street names in the US are known to be used across many states, there could be instances where the function will return co-ordinates in another state. This can be seen visually on the map, because capital bikeshare is only availble in DC and surrounding sub-urban areas.\n",
    "\n",
    "To over come this, we could also use the google API which will give us higher accuracy, however this will cost money and so for the purpose of this project geo-coder was used instead to get an initial view of bikeshare locations. We are only looking at journey's between stations for 2017, and so the total number of stations active in this calendar year is 486\n"
   ]
  },
  {
   "cell_type": "code",
   "execution_count": 11,
   "metadata": {},
   "outputs": [
    {
     "data": {
      "text/html": [
       "<div>\n",
       "<style scoped>\n",
       "    .dataframe tbody tr th:only-of-type {\n",
       "        vertical-align: middle;\n",
       "    }\n",
       "\n",
       "    .dataframe tbody tr th {\n",
       "        vertical-align: top;\n",
       "    }\n",
       "\n",
       "    .dataframe thead th {\n",
       "        text-align: right;\n",
       "    }\n",
       "</style>\n",
       "<table border=\"1\" class=\"dataframe\">\n",
       "  <thead>\n",
       "    <tr style=\"text-align: right;\">\n",
       "      <th></th>\n",
       "      <th>Duration</th>\n",
       "      <th>Start date</th>\n",
       "      <th>End date</th>\n",
       "      <th>Start station number</th>\n",
       "      <th>Start station</th>\n",
       "      <th>End station number</th>\n",
       "      <th>End station</th>\n",
       "      <th>Bike number</th>\n",
       "      <th>Member type</th>\n",
       "    </tr>\n",
       "  </thead>\n",
       "  <tbody>\n",
       "    <tr>\n",
       "      <th>0</th>\n",
       "      <td>197</td>\n",
       "      <td>2017-10-01 00:00:02</td>\n",
       "      <td>2017-10-01 00:03:19</td>\n",
       "      <td>31214</td>\n",
       "      <td>17th &amp; Corcoran St NW</td>\n",
       "      <td>31229</td>\n",
       "      <td>New Hampshire Ave &amp; T St NW</td>\n",
       "      <td>W21022</td>\n",
       "      <td>Member</td>\n",
       "    </tr>\n",
       "    <tr>\n",
       "      <th>1</th>\n",
       "      <td>434</td>\n",
       "      <td>2017-10-01 00:00:23</td>\n",
       "      <td>2017-10-01 00:07:38</td>\n",
       "      <td>31104</td>\n",
       "      <td>Adams Mill &amp; Columbia Rd NW</td>\n",
       "      <td>31602</td>\n",
       "      <td>Park Rd &amp; Holmead Pl NW</td>\n",
       "      <td>W00470</td>\n",
       "      <td>Member</td>\n",
       "    </tr>\n",
       "    <tr>\n",
       "      <th>2</th>\n",
       "      <td>955</td>\n",
       "      <td>2017-10-01 00:00:56</td>\n",
       "      <td>2017-10-01 00:16:52</td>\n",
       "      <td>31221</td>\n",
       "      <td>18th &amp; M St NW</td>\n",
       "      <td>31103</td>\n",
       "      <td>16th &amp; Harvard St NW</td>\n",
       "      <td>W20206</td>\n",
       "      <td>Member</td>\n",
       "    </tr>\n",
       "    <tr>\n",
       "      <th>3</th>\n",
       "      <td>461</td>\n",
       "      <td>2017-10-01 00:00:56</td>\n",
       "      <td>2017-10-01 00:08:37</td>\n",
       "      <td>31111</td>\n",
       "      <td>10th &amp; U St NW</td>\n",
       "      <td>31102</td>\n",
       "      <td>11th &amp; Kenyon St NW</td>\n",
       "      <td>W21014</td>\n",
       "      <td>Member</td>\n",
       "    </tr>\n",
       "    <tr>\n",
       "      <th>4</th>\n",
       "      <td>3357</td>\n",
       "      <td>2017-10-01 00:00:59</td>\n",
       "      <td>2017-10-01 00:56:56</td>\n",
       "      <td>31260</td>\n",
       "      <td>23rd &amp; E St NW</td>\n",
       "      <td>31260</td>\n",
       "      <td>23rd &amp; E St NW</td>\n",
       "      <td>W22349</td>\n",
       "      <td>Casual</td>\n",
       "    </tr>\n",
       "    <tr>\n",
       "      <th>5</th>\n",
       "      <td>2235</td>\n",
       "      <td>2017-10-01 00:01:06</td>\n",
       "      <td>2017-10-01 00:38:21</td>\n",
       "      <td>31260</td>\n",
       "      <td>23rd &amp; E St NW</td>\n",
       "      <td>31289</td>\n",
       "      <td>Henry Bacon Dr &amp; Lincoln Memorial Circle NW</td>\n",
       "      <td>W21107</td>\n",
       "      <td>Casual</td>\n",
       "    </tr>\n",
       "    <tr>\n",
       "      <th>6</th>\n",
       "      <td>1177</td>\n",
       "      <td>2017-10-01 00:01:14</td>\n",
       "      <td>2017-10-01 00:20:51</td>\n",
       "      <td>31603</td>\n",
       "      <td>1st &amp; M St NE</td>\n",
       "      <td>31259</td>\n",
       "      <td>20th St &amp; Virginia Ave NW</td>\n",
       "      <td>W00708</td>\n",
       "      <td>Casual</td>\n",
       "    </tr>\n",
       "    <tr>\n",
       "      <th>7</th>\n",
       "      <td>470</td>\n",
       "      <td>2017-10-01 00:01:19</td>\n",
       "      <td>2017-10-01 00:09:09</td>\n",
       "      <td>31285</td>\n",
       "      <td>22nd &amp; P ST NW</td>\n",
       "      <td>31201</td>\n",
       "      <td>15th &amp; P St NW</td>\n",
       "      <td>W22460</td>\n",
       "      <td>Member</td>\n",
       "    </tr>\n",
       "    <tr>\n",
       "      <th>8</th>\n",
       "      <td>549</td>\n",
       "      <td>2017-10-01 00:02:01</td>\n",
       "      <td>2017-10-01 00:11:10</td>\n",
       "      <td>31102</td>\n",
       "      <td>11th &amp; Kenyon St NW</td>\n",
       "      <td>31503</td>\n",
       "      <td>Florida Ave &amp; R St NW</td>\n",
       "      <td>W00875</td>\n",
       "      <td>Member</td>\n",
       "    </tr>\n",
       "    <tr>\n",
       "      <th>9</th>\n",
       "      <td>481</td>\n",
       "      <td>2017-10-01 00:03:08</td>\n",
       "      <td>2017-10-01 00:11:10</td>\n",
       "      <td>31280</td>\n",
       "      <td>11th &amp; S St NW</td>\n",
       "      <td>31506</td>\n",
       "      <td>1st &amp; Rhode Island Ave NW</td>\n",
       "      <td>W00492</td>\n",
       "      <td>Member</td>\n",
       "    </tr>\n",
       "  </tbody>\n",
       "</table>\n",
       "</div>"
      ],
      "text/plain": [
       "   Duration          Start date            End date  Start station number  \\\n",
       "0       197 2017-10-01 00:00:02 2017-10-01 00:03:19                 31214   \n",
       "1       434 2017-10-01 00:00:23 2017-10-01 00:07:38                 31104   \n",
       "2       955 2017-10-01 00:00:56 2017-10-01 00:16:52                 31221   \n",
       "3       461 2017-10-01 00:00:56 2017-10-01 00:08:37                 31111   \n",
       "4      3357 2017-10-01 00:00:59 2017-10-01 00:56:56                 31260   \n",
       "5      2235 2017-10-01 00:01:06 2017-10-01 00:38:21                 31260   \n",
       "6      1177 2017-10-01 00:01:14 2017-10-01 00:20:51                 31603   \n",
       "7       470 2017-10-01 00:01:19 2017-10-01 00:09:09                 31285   \n",
       "8       549 2017-10-01 00:02:01 2017-10-01 00:11:10                 31102   \n",
       "9       481 2017-10-01 00:03:08 2017-10-01 00:11:10                 31280   \n",
       "\n",
       "                 Start station  End station number  \\\n",
       "0        17th & Corcoran St NW               31229   \n",
       "1  Adams Mill & Columbia Rd NW               31602   \n",
       "2               18th & M St NW               31103   \n",
       "3               10th & U St NW               31102   \n",
       "4              23rd & E St NW                31260   \n",
       "5              23rd & E St NW                31289   \n",
       "6                1st & M St NE               31259   \n",
       "7               22nd & P ST NW               31201   \n",
       "8          11th & Kenyon St NW               31503   \n",
       "9               11th & S St NW               31506   \n",
       "\n",
       "                                   End station Bike number Member type  \n",
       "0                  New Hampshire Ave & T St NW      W21022      Member  \n",
       "1                      Park Rd & Holmead Pl NW      W00470      Member  \n",
       "2                         16th & Harvard St NW      W20206      Member  \n",
       "3                          11th & Kenyon St NW      W21014      Member  \n",
       "4                              23rd & E St NW       W22349      Casual  \n",
       "5  Henry Bacon Dr & Lincoln Memorial Circle NW      W21107      Casual  \n",
       "6                    20th St & Virginia Ave NW      W00708      Casual  \n",
       "7                               15th & P St NW      W22460      Member  \n",
       "8                        Florida Ave & R St NW      W00875      Member  \n",
       "9                    1st & Rhode Island Ave NW      W00492      Member  "
      ]
     },
     "execution_count": 11,
     "metadata": {},
     "output_type": "execute_result"
    }
   ],
   "source": [
    "import os\n",
    "import glob\n",
    "import pandas as pd\n",
    "%matplotlib inline\n",
    "import matplotlib.pyplot as plt\n",
    "import seaborn as sns; sns.set()\n",
    "import numpy as np\n",
    "\n",
    "#create pandas df for q4 trips\n",
    "q4 = pd.read_csv(\"2017Q4-capitalbikeshare-tripdata.csv\" , parse_dates=['Start date' , 'End date'] ,\n",
    "                       infer_datetime_format=True)\n",
    "\n",
    "#printing first 10 rows for initial view\n",
    "q4.head(10)"
   ]
  },
  {
   "cell_type": "code",
   "execution_count": 12,
   "metadata": {},
   "outputs": [
    {
     "data": {
      "text/plain": [
       "(815264, 9)"
      ]
     },
     "execution_count": 12,
     "metadata": {},
     "output_type": "execute_result"
    }
   ],
   "source": [
    "q4.shape"
   ]
  },
  {
   "cell_type": "code",
   "execution_count": 13,
   "metadata": {},
   "outputs": [
    {
     "name": "stderr",
     "output_type": "stream",
     "text": [
      "/Users/yasminbuzari/opt/anaconda3/envs/myenv/lib/python3.7/site-packages/pandas/core/frame.py:4117: SettingWithCopyWarning: \n",
      "A value is trying to be set on a copy of a slice from a DataFrame\n",
      "\n",
      "See the caveats in the documentation: http://pandas.pydata.org/pandas-docs/stable/user_guide/indexing.html#returning-a-view-versus-a-copy\n",
      "  errors=errors,\n"
     ]
    },
    {
     "data": {
      "text/html": [
       "<div>\n",
       "<style scoped>\n",
       "    .dataframe tbody tr th:only-of-type {\n",
       "        vertical-align: middle;\n",
       "    }\n",
       "\n",
       "    .dataframe tbody tr th {\n",
       "        vertical-align: top;\n",
       "    }\n",
       "\n",
       "    .dataframe thead th {\n",
       "        text-align: right;\n",
       "    }\n",
       "</style>\n",
       "<table border=\"1\" class=\"dataframe\">\n",
       "  <thead>\n",
       "    <tr style=\"text-align: right;\">\n",
       "      <th></th>\n",
       "      <th>Duration</th>\n",
       "      <th>Start date</th>\n",
       "      <th>End date</th>\n",
       "      <th>Start station</th>\n",
       "      <th>End station</th>\n",
       "      <th>Member type</th>\n",
       "    </tr>\n",
       "  </thead>\n",
       "  <tbody>\n",
       "    <tr>\n",
       "      <th>0</th>\n",
       "      <td>197</td>\n",
       "      <td>2017-10-01 00:00:02</td>\n",
       "      <td>2017-10-01 00:03:19</td>\n",
       "      <td>17th &amp; Corcoran St NW</td>\n",
       "      <td>New Hampshire Ave &amp; T St NW</td>\n",
       "      <td>Member</td>\n",
       "    </tr>\n",
       "    <tr>\n",
       "      <th>1</th>\n",
       "      <td>434</td>\n",
       "      <td>2017-10-01 00:00:23</td>\n",
       "      <td>2017-10-01 00:07:38</td>\n",
       "      <td>Adams Mill &amp; Columbia Rd NW</td>\n",
       "      <td>Park Rd &amp; Holmead Pl NW</td>\n",
       "      <td>Member</td>\n",
       "    </tr>\n",
       "    <tr>\n",
       "      <th>2</th>\n",
       "      <td>955</td>\n",
       "      <td>2017-10-01 00:00:56</td>\n",
       "      <td>2017-10-01 00:16:52</td>\n",
       "      <td>18th &amp; M St NW</td>\n",
       "      <td>16th &amp; Harvard St NW</td>\n",
       "      <td>Member</td>\n",
       "    </tr>\n",
       "    <tr>\n",
       "      <th>3</th>\n",
       "      <td>461</td>\n",
       "      <td>2017-10-01 00:00:56</td>\n",
       "      <td>2017-10-01 00:08:37</td>\n",
       "      <td>10th &amp; U St NW</td>\n",
       "      <td>11th &amp; Kenyon St NW</td>\n",
       "      <td>Member</td>\n",
       "    </tr>\n",
       "    <tr>\n",
       "      <th>4</th>\n",
       "      <td>3357</td>\n",
       "      <td>2017-10-01 00:00:59</td>\n",
       "      <td>2017-10-01 00:56:56</td>\n",
       "      <td>23rd &amp; E St NW</td>\n",
       "      <td>23rd &amp; E St NW</td>\n",
       "      <td>Casual</td>\n",
       "    </tr>\n",
       "  </tbody>\n",
       "</table>\n",
       "</div>"
      ],
      "text/plain": [
       "   Duration          Start date            End date  \\\n",
       "0       197 2017-10-01 00:00:02 2017-10-01 00:03:19   \n",
       "1       434 2017-10-01 00:00:23 2017-10-01 00:07:38   \n",
       "2       955 2017-10-01 00:00:56 2017-10-01 00:16:52   \n",
       "3       461 2017-10-01 00:00:56 2017-10-01 00:08:37   \n",
       "4      3357 2017-10-01 00:00:59 2017-10-01 00:56:56   \n",
       "\n",
       "                 Start station                  End station Member type  \n",
       "0        17th & Corcoran St NW  New Hampshire Ave & T St NW      Member  \n",
       "1  Adams Mill & Columbia Rd NW      Park Rd & Holmead Pl NW      Member  \n",
       "2               18th & M St NW         16th & Harvard St NW      Member  \n",
       "3               10th & U St NW          11th & Kenyon St NW      Member  \n",
       "4              23rd & E St NW               23rd & E St NW       Casual  "
      ]
     },
     "execution_count": 13,
     "metadata": {},
     "output_type": "execute_result"
    }
   ],
   "source": [
    "#dropping unnecesary columns and duplications of stations\n",
    "qq1 = q4.drop_duplicates('Start station')\n",
    "qq2 = q4.drop_duplicates('End station')\n",
    "qq3 = q4.drop_duplicates('Bike number')\n",
    "\n",
    "dropcols = ['Start station number', 'End station number', 'Bike number']\n",
    "qq1.drop(labels=dropcols, axis='columns', inplace=True)\n",
    "qq1.head(5)"
   ]
  },
  {
   "cell_type": "code",
   "execution_count": 14,
   "metadata": {},
   "outputs": [
    {
     "data": {
      "text/plain": [
       "(486, 6)"
      ]
     },
     "execution_count": 14,
     "metadata": {},
     "output_type": "execute_result"
    }
   ],
   "source": [
    "#checking final result for total numbers of station's to geocode\n",
    "qq1.shape"
   ]
  },
  {
   "cell_type": "code",
   "execution_count": 15,
   "metadata": {},
   "outputs": [
    {
     "name": "stderr",
     "output_type": "stream",
     "text": [
      "/Users/yasminbuzari/opt/anaconda3/envs/myenv/lib/python3.7/site-packages/ipykernel_launcher.py:14: SettingWithCopyWarning: \n",
      "A value is trying to be set on a copy of a slice from a DataFrame.\n",
      "Try using .loc[row_indexer,col_indexer] = value instead\n",
      "\n",
      "See the caveats in the documentation: http://pandas.pydata.org/pandas-docs/stable/user_guide/indexing.html#returning-a-view-versus-a-copy\n",
      "  \n",
      "/Users/yasminbuzari/opt/anaconda3/envs/myenv/lib/python3.7/site-packages/ipykernel_launcher.py:17: SettingWithCopyWarning: \n",
      "A value is trying to be set on a copy of a slice from a DataFrame.\n",
      "Try using .loc[row_indexer,col_indexer] = value instead\n",
      "\n",
      "See the caveats in the documentation: http://pandas.pydata.org/pandas-docs/stable/user_guide/indexing.html#returning-a-view-versus-a-copy\n",
      "/Users/yasminbuzari/opt/anaconda3/envs/myenv/lib/python3.7/site-packages/pandas/core/frame.py:3509: SettingWithCopyWarning: \n",
      "A value is trying to be set on a copy of a slice from a DataFrame.\n",
      "Try using .loc[row_indexer,col_indexer] = value instead\n",
      "\n",
      "See the caveats in the documentation: http://pandas.pydata.org/pandas-docs/stable/user_guide/indexing.html#returning-a-view-versus-a-copy\n",
      "  self[k1] = value[k2]\n"
     ]
    },
    {
     "data": {
      "text/html": [
       "<div>\n",
       "<style scoped>\n",
       "    .dataframe tbody tr th:only-of-type {\n",
       "        vertical-align: middle;\n",
       "    }\n",
       "\n",
       "    .dataframe tbody tr th {\n",
       "        vertical-align: top;\n",
       "    }\n",
       "\n",
       "    .dataframe thead th {\n",
       "        text-align: right;\n",
       "    }\n",
       "</style>\n",
       "<table border=\"1\" class=\"dataframe\">\n",
       "  <thead>\n",
       "    <tr style=\"text-align: right;\">\n",
       "      <th></th>\n",
       "      <th>Duration</th>\n",
       "      <th>Start date</th>\n",
       "      <th>End date</th>\n",
       "      <th>Start station</th>\n",
       "      <th>End station</th>\n",
       "      <th>Member type</th>\n",
       "      <th>location</th>\n",
       "      <th>point</th>\n",
       "      <th>latitude</th>\n",
       "      <th>longitude</th>\n",
       "      <th>altitude</th>\n",
       "    </tr>\n",
       "  </thead>\n",
       "  <tbody>\n",
       "    <tr>\n",
       "      <th>0</th>\n",
       "      <td>197</td>\n",
       "      <td>2017-10-01 00:00:02</td>\n",
       "      <td>2017-10-01 00:03:19</td>\n",
       "      <td>17th &amp; Corcoran St NW</td>\n",
       "      <td>New Hampshire Ave &amp; T St NW</td>\n",
       "      <td>Member</td>\n",
       "      <td>(17th &amp; Corcoran St NW, 17th Street Northwest,...</td>\n",
       "      <td>(38.912083, -77.0386464, 0.0)</td>\n",
       "      <td>38.912083</td>\n",
       "      <td>-77.038646</td>\n",
       "      <td>0.0</td>\n",
       "    </tr>\n",
       "    <tr>\n",
       "      <th>1</th>\n",
       "      <td>434</td>\n",
       "      <td>2017-10-01 00:00:23</td>\n",
       "      <td>2017-10-01 00:07:38</td>\n",
       "      <td>Adams Mill &amp; Columbia Rd NW</td>\n",
       "      <td>Park Rd &amp; Holmead Pl NW</td>\n",
       "      <td>Member</td>\n",
       "      <td>(Adams Mill and Columbia Rd NW, Columbia Road ...</td>\n",
       "      <td>(38.9230444, -77.0425553, 0.0)</td>\n",
       "      <td>38.923044</td>\n",
       "      <td>-77.042555</td>\n",
       "      <td>0.0</td>\n",
       "    </tr>\n",
       "    <tr>\n",
       "      <th>2</th>\n",
       "      <td>955</td>\n",
       "      <td>2017-10-01 00:00:56</td>\n",
       "      <td>2017-10-01 00:16:52</td>\n",
       "      <td>18th &amp; M St NW</td>\n",
       "      <td>16th &amp; Harvard St NW</td>\n",
       "      <td>Member</td>\n",
       "      <td>(18th and M St NW, 18th Street Northwest, Gold...</td>\n",
       "      <td>(38.9047417, -77.041606, 0.0)</td>\n",
       "      <td>38.904742</td>\n",
       "      <td>-77.041606</td>\n",
       "      <td>0.0</td>\n",
       "    </tr>\n",
       "    <tr>\n",
       "      <th>3</th>\n",
       "      <td>461</td>\n",
       "      <td>2017-10-01 00:00:56</td>\n",
       "      <td>2017-10-01 00:08:37</td>\n",
       "      <td>10th &amp; U St NW</td>\n",
       "      <td>11th &amp; Kenyon St NW</td>\n",
       "      <td>Member</td>\n",
       "      <td>(10th and U St NW, 10th Street Northwest, 9th ...</td>\n",
       "      <td>(38.9171997, -77.0259, 0.0)</td>\n",
       "      <td>38.917200</td>\n",
       "      <td>-77.025900</td>\n",
       "      <td>0.0</td>\n",
       "    </tr>\n",
       "    <tr>\n",
       "      <th>4</th>\n",
       "      <td>3357</td>\n",
       "      <td>2017-10-01 00:00:59</td>\n",
       "      <td>2017-10-01 00:56:56</td>\n",
       "      <td>23rd &amp; E St NW</td>\n",
       "      <td>23rd &amp; E St NW</td>\n",
       "      <td>Casual</td>\n",
       "      <td>(23rd and E St NW, E Street Northwest, Penn Qu...</td>\n",
       "      <td>(38.8961214, -77.0497479, 0.0)</td>\n",
       "      <td>38.896121</td>\n",
       "      <td>-77.049748</td>\n",
       "      <td>0.0</td>\n",
       "    </tr>\n",
       "    <tr>\n",
       "      <th>6</th>\n",
       "      <td>1177</td>\n",
       "      <td>2017-10-01 00:01:14</td>\n",
       "      <td>2017-10-01 00:20:51</td>\n",
       "      <td>1st &amp; M St NE</td>\n",
       "      <td>20th St &amp; Virginia Ave NW</td>\n",
       "      <td>Casual</td>\n",
       "      <td>(1st and M St NE, M Street Northeast, NoMa, Ne...</td>\n",
       "      <td>(38.9056997, -77.0056, 0.0)</td>\n",
       "      <td>38.905700</td>\n",
       "      <td>-77.005600</td>\n",
       "      <td>0.0</td>\n",
       "    </tr>\n",
       "    <tr>\n",
       "      <th>7</th>\n",
       "      <td>470</td>\n",
       "      <td>2017-10-01 00:01:19</td>\n",
       "      <td>2017-10-01 00:09:09</td>\n",
       "      <td>22nd &amp; P ST NW</td>\n",
       "      <td>15th &amp; P St NW</td>\n",
       "      <td>Member</td>\n",
       "      <td>(22nd and P ST NW, 22nd Street Northwest, West...</td>\n",
       "      <td>(38.9094018, -77.0487303, 0.0)</td>\n",
       "      <td>38.909402</td>\n",
       "      <td>-77.048730</td>\n",
       "      <td>0.0</td>\n",
       "    </tr>\n",
       "    <tr>\n",
       "      <th>8</th>\n",
       "      <td>549</td>\n",
       "      <td>2017-10-01 00:02:01</td>\n",
       "      <td>2017-10-01 00:11:10</td>\n",
       "      <td>11th &amp; Kenyon St NW</td>\n",
       "      <td>Florida Ave &amp; R St NW</td>\n",
       "      <td>Member</td>\n",
       "      <td>(11th and Kenyon St NW, 11th Street Northwest,...</td>\n",
       "      <td>(38.9294637, -77.027822, 0.0)</td>\n",
       "      <td>38.929464</td>\n",
       "      <td>-77.027822</td>\n",
       "      <td>0.0</td>\n",
       "    </tr>\n",
       "    <tr>\n",
       "      <th>9</th>\n",
       "      <td>481</td>\n",
       "      <td>2017-10-01 00:03:08</td>\n",
       "      <td>2017-10-01 00:11:10</td>\n",
       "      <td>11th &amp; S St NW</td>\n",
       "      <td>1st &amp; Rhode Island Ave NW</td>\n",
       "      <td>Member</td>\n",
       "      <td>(11th and S St NW, 11th Street Northwest, Loga...</td>\n",
       "      <td>(38.9137688, -77.0270273, 0.0)</td>\n",
       "      <td>38.913769</td>\n",
       "      <td>-77.027027</td>\n",
       "      <td>0.0</td>\n",
       "    </tr>\n",
       "    <tr>\n",
       "      <th>10</th>\n",
       "      <td>504</td>\n",
       "      <td>2017-10-01 00:03:22</td>\n",
       "      <td>2017-10-01 00:11:46</td>\n",
       "      <td>California St &amp; Florida Ave NW</td>\n",
       "      <td>New Hampshire Ave &amp; 24th St NW</td>\n",
       "      <td>Member</td>\n",
       "      <td>(California St and Florida Ave NW, California ...</td>\n",
       "      <td>(38.9177607, -77.04062, 0.0)</td>\n",
       "      <td>38.917761</td>\n",
       "      <td>-77.040620</td>\n",
       "      <td>0.0</td>\n",
       "    </tr>\n",
       "  </tbody>\n",
       "</table>\n",
       "</div>"
      ],
      "text/plain": [
       "    Duration          Start date            End date  \\\n",
       "0        197 2017-10-01 00:00:02 2017-10-01 00:03:19   \n",
       "1        434 2017-10-01 00:00:23 2017-10-01 00:07:38   \n",
       "2        955 2017-10-01 00:00:56 2017-10-01 00:16:52   \n",
       "3        461 2017-10-01 00:00:56 2017-10-01 00:08:37   \n",
       "4       3357 2017-10-01 00:00:59 2017-10-01 00:56:56   \n",
       "6       1177 2017-10-01 00:01:14 2017-10-01 00:20:51   \n",
       "7        470 2017-10-01 00:01:19 2017-10-01 00:09:09   \n",
       "8        549 2017-10-01 00:02:01 2017-10-01 00:11:10   \n",
       "9        481 2017-10-01 00:03:08 2017-10-01 00:11:10   \n",
       "10       504 2017-10-01 00:03:22 2017-10-01 00:11:46   \n",
       "\n",
       "                     Start station                     End station  \\\n",
       "0            17th & Corcoran St NW     New Hampshire Ave & T St NW   \n",
       "1      Adams Mill & Columbia Rd NW         Park Rd & Holmead Pl NW   \n",
       "2                   18th & M St NW            16th & Harvard St NW   \n",
       "3                   10th & U St NW             11th & Kenyon St NW   \n",
       "4                  23rd & E St NW                  23rd & E St NW    \n",
       "6                    1st & M St NE       20th St & Virginia Ave NW   \n",
       "7                   22nd & P ST NW                  15th & P St NW   \n",
       "8              11th & Kenyon St NW           Florida Ave & R St NW   \n",
       "9                   11th & S St NW       1st & Rhode Island Ave NW   \n",
       "10  California St & Florida Ave NW  New Hampshire Ave & 24th St NW   \n",
       "\n",
       "   Member type                                           location  \\\n",
       "0       Member  (17th & Corcoran St NW, 17th Street Northwest,...   \n",
       "1       Member  (Adams Mill and Columbia Rd NW, Columbia Road ...   \n",
       "2       Member  (18th and M St NW, 18th Street Northwest, Gold...   \n",
       "3       Member  (10th and U St NW, 10th Street Northwest, 9th ...   \n",
       "4       Casual  (23rd and E St NW, E Street Northwest, Penn Qu...   \n",
       "6       Casual  (1st and M St NE, M Street Northeast, NoMa, Ne...   \n",
       "7       Member  (22nd and P ST NW, 22nd Street Northwest, West...   \n",
       "8       Member  (11th and Kenyon St NW, 11th Street Northwest,...   \n",
       "9       Member  (11th and S St NW, 11th Street Northwest, Loga...   \n",
       "10      Member  (California St and Florida Ave NW, California ...   \n",
       "\n",
       "                             point   latitude  longitude  altitude  \n",
       "0    (38.912083, -77.0386464, 0.0)  38.912083 -77.038646       0.0  \n",
       "1   (38.9230444, -77.0425553, 0.0)  38.923044 -77.042555       0.0  \n",
       "2    (38.9047417, -77.041606, 0.0)  38.904742 -77.041606       0.0  \n",
       "3      (38.9171997, -77.0259, 0.0)  38.917200 -77.025900       0.0  \n",
       "4   (38.8961214, -77.0497479, 0.0)  38.896121 -77.049748       0.0  \n",
       "6      (38.9056997, -77.0056, 0.0)  38.905700 -77.005600       0.0  \n",
       "7   (38.9094018, -77.0487303, 0.0)  38.909402 -77.048730       0.0  \n",
       "8    (38.9294637, -77.027822, 0.0)  38.929464 -77.027822       0.0  \n",
       "9   (38.9137688, -77.0270273, 0.0)  38.913769 -77.027027       0.0  \n",
       "10    (38.9177607, -77.04062, 0.0)  38.917761 -77.040620       0.0  "
      ]
     },
     "execution_count": 15,
     "metadata": {},
     "output_type": "execute_result"
    }
   ],
   "source": [
    "#using geo-coding to create longitude and latitude co-ordinates for each station\n",
    "#importing libraries\n",
    "import geopandas as gpd\n",
    "from geopy.geocoders import Nominatim\n",
    "from geopy.extra.rate_limiter import RateLimiter\n",
    "\n",
    "#specify geo-locater\n",
    "geolocator = Nominatim(user_agent=\"BikeshareGeocoder\")\n",
    "\n",
    "#include function to delay geocoding calls, to overcome denied access by geocoding service provider\n",
    "geocode = RateLimiter(geolocator.geocode, min_delay_seconds=1)\n",
    "\n",
    "#create a location column in dataframe\n",
    "qq1['location'] = qq1['Start station'].apply(geocode)\n",
    "\n",
    "#create longitude, laatitude and altitude from location column, returning tuple\n",
    "qq1['point'] = qq1['location'].apply(lambda loc: tuple(loc.point) if loc else None)\n",
    "\n",
    "#split point column into latitude, longitude and altitude columns back into dataframe\n",
    "qq1[['latitude', 'longitude', 'altitude']] = pd.DataFrame(qq1['point'].tolist(), index=qq1.index)\n",
    "\n",
    "#observe dataframe with long, lats \n",
    "qq1.head(10)\n"
   ]
  },
  {
   "cell_type": "code",
   "execution_count": 16,
   "metadata": {},
   "outputs": [
    {
     "data": {
      "text/html": [
       "<div>\n",
       "<style scoped>\n",
       "    .dataframe tbody tr th:only-of-type {\n",
       "        vertical-align: middle;\n",
       "    }\n",
       "\n",
       "    .dataframe tbody tr th {\n",
       "        vertical-align: top;\n",
       "    }\n",
       "\n",
       "    .dataframe thead th {\n",
       "        text-align: right;\n",
       "    }\n",
       "</style>\n",
       "<table border=\"1\" class=\"dataframe\">\n",
       "  <thead>\n",
       "    <tr style=\"text-align: right;\">\n",
       "      <th></th>\n",
       "      <th>Duration</th>\n",
       "      <th>Start date</th>\n",
       "      <th>End date</th>\n",
       "      <th>Start station</th>\n",
       "      <th>location</th>\n",
       "      <th>latitude</th>\n",
       "      <th>longitude</th>\n",
       "    </tr>\n",
       "  </thead>\n",
       "  <tbody>\n",
       "    <tr>\n",
       "      <th>0</th>\n",
       "      <td>197</td>\n",
       "      <td>2017-10-01 00:00:02</td>\n",
       "      <td>2017-10-01 00:03:19</td>\n",
       "      <td>17th &amp; Corcoran St NW</td>\n",
       "      <td>(17th &amp; Corcoran St NW, 17th Street Northwest,...</td>\n",
       "      <td>38.912083</td>\n",
       "      <td>-77.038646</td>\n",
       "    </tr>\n",
       "    <tr>\n",
       "      <th>1</th>\n",
       "      <td>434</td>\n",
       "      <td>2017-10-01 00:00:23</td>\n",
       "      <td>2017-10-01 00:07:38</td>\n",
       "      <td>Adams Mill &amp; Columbia Rd NW</td>\n",
       "      <td>(Adams Mill and Columbia Rd NW, Columbia Road ...</td>\n",
       "      <td>38.923044</td>\n",
       "      <td>-77.042555</td>\n",
       "    </tr>\n",
       "    <tr>\n",
       "      <th>2</th>\n",
       "      <td>955</td>\n",
       "      <td>2017-10-01 00:00:56</td>\n",
       "      <td>2017-10-01 00:16:52</td>\n",
       "      <td>18th &amp; M St NW</td>\n",
       "      <td>(18th and M St NW, 18th Street Northwest, Gold...</td>\n",
       "      <td>38.904742</td>\n",
       "      <td>-77.041606</td>\n",
       "    </tr>\n",
       "    <tr>\n",
       "      <th>3</th>\n",
       "      <td>461</td>\n",
       "      <td>2017-10-01 00:00:56</td>\n",
       "      <td>2017-10-01 00:08:37</td>\n",
       "      <td>10th &amp; U St NW</td>\n",
       "      <td>(10th and U St NW, 10th Street Northwest, 9th ...</td>\n",
       "      <td>38.917200</td>\n",
       "      <td>-77.025900</td>\n",
       "    </tr>\n",
       "    <tr>\n",
       "      <th>4</th>\n",
       "      <td>3357</td>\n",
       "      <td>2017-10-01 00:00:59</td>\n",
       "      <td>2017-10-01 00:56:56</td>\n",
       "      <td>23rd &amp; E St NW</td>\n",
       "      <td>(23rd and E St NW, E Street Northwest, Penn Qu...</td>\n",
       "      <td>38.896121</td>\n",
       "      <td>-77.049748</td>\n",
       "    </tr>\n",
       "    <tr>\n",
       "      <th>6</th>\n",
       "      <td>1177</td>\n",
       "      <td>2017-10-01 00:01:14</td>\n",
       "      <td>2017-10-01 00:20:51</td>\n",
       "      <td>1st &amp; M St NE</td>\n",
       "      <td>(1st and M St NE, M Street Northeast, NoMa, Ne...</td>\n",
       "      <td>38.905700</td>\n",
       "      <td>-77.005600</td>\n",
       "    </tr>\n",
       "    <tr>\n",
       "      <th>7</th>\n",
       "      <td>470</td>\n",
       "      <td>2017-10-01 00:01:19</td>\n",
       "      <td>2017-10-01 00:09:09</td>\n",
       "      <td>22nd &amp; P ST NW</td>\n",
       "      <td>(22nd and P ST NW, 22nd Street Northwest, West...</td>\n",
       "      <td>38.909402</td>\n",
       "      <td>-77.048730</td>\n",
       "    </tr>\n",
       "    <tr>\n",
       "      <th>8</th>\n",
       "      <td>549</td>\n",
       "      <td>2017-10-01 00:02:01</td>\n",
       "      <td>2017-10-01 00:11:10</td>\n",
       "      <td>11th &amp; Kenyon St NW</td>\n",
       "      <td>(11th and Kenyon St NW, 11th Street Northwest,...</td>\n",
       "      <td>38.929464</td>\n",
       "      <td>-77.027822</td>\n",
       "    </tr>\n",
       "    <tr>\n",
       "      <th>9</th>\n",
       "      <td>481</td>\n",
       "      <td>2017-10-01 00:03:08</td>\n",
       "      <td>2017-10-01 00:11:10</td>\n",
       "      <td>11th &amp; S St NW</td>\n",
       "      <td>(11th and S St NW, 11th Street Northwest, Loga...</td>\n",
       "      <td>38.913769</td>\n",
       "      <td>-77.027027</td>\n",
       "    </tr>\n",
       "    <tr>\n",
       "      <th>10</th>\n",
       "      <td>504</td>\n",
       "      <td>2017-10-01 00:03:22</td>\n",
       "      <td>2017-10-01 00:11:46</td>\n",
       "      <td>California St &amp; Florida Ave NW</td>\n",
       "      <td>(California St and Florida Ave NW, California ...</td>\n",
       "      <td>38.917761</td>\n",
       "      <td>-77.040620</td>\n",
       "    </tr>\n",
       "  </tbody>\n",
       "</table>\n",
       "</div>"
      ],
      "text/plain": [
       "    Duration          Start date            End date  \\\n",
       "0        197 2017-10-01 00:00:02 2017-10-01 00:03:19   \n",
       "1        434 2017-10-01 00:00:23 2017-10-01 00:07:38   \n",
       "2        955 2017-10-01 00:00:56 2017-10-01 00:16:52   \n",
       "3        461 2017-10-01 00:00:56 2017-10-01 00:08:37   \n",
       "4       3357 2017-10-01 00:00:59 2017-10-01 00:56:56   \n",
       "6       1177 2017-10-01 00:01:14 2017-10-01 00:20:51   \n",
       "7        470 2017-10-01 00:01:19 2017-10-01 00:09:09   \n",
       "8        549 2017-10-01 00:02:01 2017-10-01 00:11:10   \n",
       "9        481 2017-10-01 00:03:08 2017-10-01 00:11:10   \n",
       "10       504 2017-10-01 00:03:22 2017-10-01 00:11:46   \n",
       "\n",
       "                     Start station  \\\n",
       "0            17th & Corcoran St NW   \n",
       "1      Adams Mill & Columbia Rd NW   \n",
       "2                   18th & M St NW   \n",
       "3                   10th & U St NW   \n",
       "4                  23rd & E St NW    \n",
       "6                    1st & M St NE   \n",
       "7                   22nd & P ST NW   \n",
       "8              11th & Kenyon St NW   \n",
       "9                   11th & S St NW   \n",
       "10  California St & Florida Ave NW   \n",
       "\n",
       "                                             location   latitude  longitude  \n",
       "0   (17th & Corcoran St NW, 17th Street Northwest,...  38.912083 -77.038646  \n",
       "1   (Adams Mill and Columbia Rd NW, Columbia Road ...  38.923044 -77.042555  \n",
       "2   (18th and M St NW, 18th Street Northwest, Gold...  38.904742 -77.041606  \n",
       "3   (10th and U St NW, 10th Street Northwest, 9th ...  38.917200 -77.025900  \n",
       "4   (23rd and E St NW, E Street Northwest, Penn Qu...  38.896121 -77.049748  \n",
       "6   (1st and M St NE, M Street Northeast, NoMa, Ne...  38.905700 -77.005600  \n",
       "7   (22nd and P ST NW, 22nd Street Northwest, West...  38.909402 -77.048730  \n",
       "8   (11th and Kenyon St NW, 11th Street Northwest,...  38.929464 -77.027822  \n",
       "9   (11th and S St NW, 11th Street Northwest, Loga...  38.913769 -77.027027  \n",
       "10  (California St and Florida Ave NW, California ...  38.917761 -77.040620  "
      ]
     },
     "execution_count": 16,
     "metadata": {},
     "output_type": "execute_result"
    }
   ],
   "source": [
    "#re-arranging columns\n",
    "q1trips = qq1[['Duration', 'Start date','End date','Start station','location','latitude','longitude']]\n",
    "q1trips.head(10)"
   ]
  },
  {
   "cell_type": "markdown",
   "metadata": {},
   "source": [
    "Assuming that some of the station's were returned blank due to geo-coding error call, lets see the number of these stations so we can exclude them from our final data frame"
   ]
  },
  {
   "cell_type": "code",
   "execution_count": 17,
   "metadata": {},
   "outputs": [
    {
     "data": {
      "text/plain": [
       "Duration          0\n",
       "Start date        0\n",
       "End date          0\n",
       "Start station     0\n",
       "location         50\n",
       "latitude         50\n",
       "longitude        50\n",
       "dtype: int64"
      ]
     },
     "execution_count": 17,
     "metadata": {},
     "output_type": "execute_result"
    }
   ],
   "source": [
    "q1trips.isnull().sum()"
   ]
  },
  {
   "cell_type": "markdown",
   "metadata": {},
   "source": [
    "It looks like we have 50 station's that were returned null, ideally we would obtain the long and lat's for these, however for the purpose of this assignment to observe 436 stations will suffice. Future work would use the google API to derive long, lats."
   ]
  },
  {
   "cell_type": "code",
   "execution_count": 18,
   "metadata": {
    "scrolled": true
   },
   "outputs": [
    {
     "data": {
      "text/plain": [
       "Duration         0\n",
       "Start date       0\n",
       "End date         0\n",
       "Start station    0\n",
       "location         0\n",
       "latitude         0\n",
       "longitude        0\n",
       "dtype: int64"
      ]
     },
     "execution_count": 18,
     "metadata": {},
     "output_type": "execute_result"
    }
   ],
   "source": [
    "#dropping null long and lats\n",
    "q1trips=q1trips.dropna(subset=['longitude'])\n",
    "q1trips=q1trips.dropna(subset=['latitude'])\n",
    "\n",
    "#re-checking\n",
    "q1trips.isnull().sum()"
   ]
  },
  {
   "cell_type": "code",
   "execution_count": 19,
   "metadata": {
    "scrolled": true
   },
   "outputs": [
    {
     "data": {
      "text/html": [
       "<div style=\"width:100%;\"><div style=\"position:relative;width:100%;height:0;padding-bottom:60%;\"><iframe src=\"data:text/html;charset=utf-8;base64,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\" style=\"position:absolute;width:100%;height:100%;left:0;top:0;border:none !important;\" allowfullscreen webkitallowfullscreen mozallowfullscreen></iframe></div></div>"
      ],
      "text/plain": [
       "<folium.folium.Map at 0x1a8041bfd0>"
      ]
     },
     "execution_count": 19,
     "metadata": {},
     "output_type": "execute_result"
    }
   ],
   "source": [
    "#import folium and fastmarker cluster for station clustering\n",
    "import folium \n",
    "from folium.plugins import FastMarkerCluster\n",
    "#set default co-ordinates to washington DC\n",
    "folium_map = folium.Map(location=[38.9, -77.05],\n",
    "                        zoom_start=12,\n",
    "                        tiles='CartoDB dark_matter')\n",
    "\n",
    "#cluster station lat, longs and map \n",
    "FastMarkerCluster(data=list(zip(q1trips['latitude'].values, q1trips['longitude'].values))).add_to(folium_map)\n",
    "folium.LayerControl().add_to(folium_map)\n",
    "folium_map"
   ]
  },
  {
   "cell_type": "markdown",
   "metadata": {},
   "source": [
    "**Observations:** Because of the large number of stations, we have used FastMarkerCluster to cluster stations together. This lets us observe hot-spot area's in Washington to compare against stations situated in sub-urban areas. Overall, this gives an idea of how capital bikeshare have chosen to implement their scheme, both as an inter-city and outer-city model to accomodate for commuters and recreational riders. "
   ]
  },
  {
   "cell_type": "markdown",
   "metadata": {},
   "source": [
    "**Merging geo-coded stations to main data frame to use for mapping popular stations**"
   ]
  },
  {
   "cell_type": "code",
   "execution_count": 20,
   "metadata": {},
   "outputs": [
    {
     "data": {
      "text/html": [
       "<div>\n",
       "<style scoped>\n",
       "    .dataframe tbody tr th:only-of-type {\n",
       "        vertical-align: middle;\n",
       "    }\n",
       "\n",
       "    .dataframe tbody tr th {\n",
       "        vertical-align: top;\n",
       "    }\n",
       "\n",
       "    .dataframe thead th {\n",
       "        text-align: right;\n",
       "    }\n",
       "</style>\n",
       "<table border=\"1\" class=\"dataframe\">\n",
       "  <thead>\n",
       "    <tr style=\"text-align: right;\">\n",
       "      <th></th>\n",
       "      <th>Duration_x</th>\n",
       "      <th>Start date_x</th>\n",
       "      <th>End date_x</th>\n",
       "      <th>Start station number</th>\n",
       "      <th>Start station</th>\n",
       "      <th>End station number</th>\n",
       "      <th>End station</th>\n",
       "      <th>Bike number</th>\n",
       "      <th>Member type</th>\n",
       "      <th>minutes</th>\n",
       "      <th>trip_id</th>\n",
       "      <th>hour</th>\n",
       "      <th>date</th>\n",
       "      <th>location</th>\n",
       "      <th>latitude</th>\n",
       "      <th>longitude</th>\n",
       "    </tr>\n",
       "  </thead>\n",
       "  <tbody>\n",
       "    <tr>\n",
       "      <th>0</th>\n",
       "      <td>221</td>\n",
       "      <td>2017-01-01 00:00:41</td>\n",
       "      <td>2017-01-01 00:04:23</td>\n",
       "      <td>31634</td>\n",
       "      <td>3rd &amp; Tingey St SE</td>\n",
       "      <td>31208</td>\n",
       "      <td>M St &amp; New Jersey Ave SE</td>\n",
       "      <td>W00869</td>\n",
       "      <td>Member</td>\n",
       "      <td>3.683333</td>\n",
       "      <td>1</td>\n",
       "      <td>0</td>\n",
       "      <td>2017-01-01</td>\n",
       "      <td>(3rd and Tingey St SE, Tingey Street Southeast...</td>\n",
       "      <td>38.875018</td>\n",
       "      <td>-77.002402</td>\n",
       "    </tr>\n",
       "    <tr>\n",
       "      <th>1</th>\n",
       "      <td>799</td>\n",
       "      <td>2017-01-01 11:54:18</td>\n",
       "      <td>2017-01-01 12:07:37</td>\n",
       "      <td>31634</td>\n",
       "      <td>3rd &amp; Tingey St SE</td>\n",
       "      <td>31612</td>\n",
       "      <td>D St &amp; Maryland Ave NE</td>\n",
       "      <td>W21871</td>\n",
       "      <td>Member</td>\n",
       "      <td>13.316667</td>\n",
       "      <td>832</td>\n",
       "      <td>11</td>\n",
       "      <td>2017-01-01</td>\n",
       "      <td>(3rd and Tingey St SE, Tingey Street Southeast...</td>\n",
       "      <td>38.875018</td>\n",
       "      <td>-77.002402</td>\n",
       "    </tr>\n",
       "    <tr>\n",
       "      <th>2</th>\n",
       "      <td>791</td>\n",
       "      <td>2017-01-01 11:54:29</td>\n",
       "      <td>2017-01-01 12:07:41</td>\n",
       "      <td>31634</td>\n",
       "      <td>3rd &amp; Tingey St SE</td>\n",
       "      <td>31612</td>\n",
       "      <td>D St &amp; Maryland Ave NE</td>\n",
       "      <td>W22877</td>\n",
       "      <td>Member</td>\n",
       "      <td>13.183333</td>\n",
       "      <td>837</td>\n",
       "      <td>11</td>\n",
       "      <td>2017-01-01</td>\n",
       "      <td>(3rd and Tingey St SE, Tingey Street Southeast...</td>\n",
       "      <td>38.875018</td>\n",
       "      <td>-77.002402</td>\n",
       "    </tr>\n",
       "    <tr>\n",
       "      <th>3</th>\n",
       "      <td>178</td>\n",
       "      <td>2017-01-01 12:16:49</td>\n",
       "      <td>2017-01-01 12:19:48</td>\n",
       "      <td>31634</td>\n",
       "      <td>3rd &amp; Tingey St SE</td>\n",
       "      <td>31628</td>\n",
       "      <td>1st &amp; K St SE</td>\n",
       "      <td>W22794</td>\n",
       "      <td>Member</td>\n",
       "      <td>2.966667</td>\n",
       "      <td>943</td>\n",
       "      <td>12</td>\n",
       "      <td>2017-01-01</td>\n",
       "      <td>(3rd and Tingey St SE, Tingey Street Southeast...</td>\n",
       "      <td>38.875018</td>\n",
       "      <td>-77.002402</td>\n",
       "    </tr>\n",
       "    <tr>\n",
       "      <th>4</th>\n",
       "      <td>97</td>\n",
       "      <td>2017-01-01 15:34:41</td>\n",
       "      <td>2017-01-01 15:36:19</td>\n",
       "      <td>31634</td>\n",
       "      <td>3rd &amp; Tingey St SE</td>\n",
       "      <td>31634</td>\n",
       "      <td>3rd &amp; Tingey St SE</td>\n",
       "      <td>W00382</td>\n",
       "      <td>Member</td>\n",
       "      <td>1.616667</td>\n",
       "      <td>2547</td>\n",
       "      <td>15</td>\n",
       "      <td>2017-01-01</td>\n",
       "      <td>(3rd and Tingey St SE, Tingey Street Southeast...</td>\n",
       "      <td>38.875018</td>\n",
       "      <td>-77.002402</td>\n",
       "    </tr>\n",
       "  </tbody>\n",
       "</table>\n",
       "</div>"
      ],
      "text/plain": [
       "   Duration_x        Start date_x          End date_x  Start station number  \\\n",
       "0         221 2017-01-01 00:00:41 2017-01-01 00:04:23                 31634   \n",
       "1         799 2017-01-01 11:54:18 2017-01-01 12:07:37                 31634   \n",
       "2         791 2017-01-01 11:54:29 2017-01-01 12:07:41                 31634   \n",
       "3         178 2017-01-01 12:16:49 2017-01-01 12:19:48                 31634   \n",
       "4          97 2017-01-01 15:34:41 2017-01-01 15:36:19                 31634   \n",
       "\n",
       "        Start station  End station number               End station  \\\n",
       "0  3rd & Tingey St SE               31208  M St & New Jersey Ave SE   \n",
       "1  3rd & Tingey St SE               31612    D St & Maryland Ave NE   \n",
       "2  3rd & Tingey St SE               31612    D St & Maryland Ave NE   \n",
       "3  3rd & Tingey St SE               31628             1st & K St SE   \n",
       "4  3rd & Tingey St SE               31634        3rd & Tingey St SE   \n",
       "\n",
       "  Bike number Member type    minutes  trip_id  hour       date  \\\n",
       "0      W00869      Member   3.683333        1     0 2017-01-01   \n",
       "1      W21871      Member  13.316667      832    11 2017-01-01   \n",
       "2      W22877      Member  13.183333      837    11 2017-01-01   \n",
       "3      W22794      Member   2.966667      943    12 2017-01-01   \n",
       "4      W00382      Member   1.616667     2547    15 2017-01-01   \n",
       "\n",
       "                                            location   latitude  longitude  \n",
       "0  (3rd and Tingey St SE, Tingey Street Southeast...  38.875018 -77.002402  \n",
       "1  (3rd and Tingey St SE, Tingey Street Southeast...  38.875018 -77.002402  \n",
       "2  (3rd and Tingey St SE, Tingey Street Southeast...  38.875018 -77.002402  \n",
       "3  (3rd and Tingey St SE, Tingey Street Southeast...  38.875018 -77.002402  \n",
       "4  (3rd and Tingey St SE, Tingey Street Southeast...  38.875018 -77.002402  "
      ]
     },
     "execution_count": 20,
     "metadata": {},
     "output_type": "execute_result"
    }
   ],
   "source": [
    "final = trips2017.merge(q1trips, on=\"Start station\", how='inner')\n",
    "\n",
    "#final=final.dropna(subset=['Duration_y'])\n",
    "\n",
    "#dropping unnecesary columns duplicated by merge \n",
    "f1 = final.drop_duplicates('Duration_y')\n",
    "f2 = final.drop_duplicates('Start date_y')\n",
    "f3 = final.drop_duplicates('End date_y')\n",
    "\n",
    "dropcols = ['Duration_y', 'Start date_y', 'End date_y']\n",
    "final.drop(labels=dropcols, axis='columns', inplace=True)\n",
    "final.head(5)"
   ]
  },
  {
   "cell_type": "code",
   "execution_count": 21,
   "metadata": {},
   "outputs": [
    {
     "data": {
      "text/plain": [
       "(3547930, 16)"
      ]
     },
     "execution_count": 21,
     "metadata": {},
     "output_type": "execute_result"
    }
   ],
   "source": [
    "final.shape"
   ]
  },
  {
   "cell_type": "markdown",
   "metadata": {},
   "source": [
    "### Station Analysis"
   ]
  },
  {
   "cell_type": "markdown",
   "metadata": {},
   "source": [
    "Here we begin to look at popular start and end station's, we have mapped start and end station's using folium to visually identify where commuters originate and end their journey's. Further analysis will look at popular trip combinations. "
   ]
  },
  {
   "cell_type": "code",
   "execution_count": 22,
   "metadata": {},
   "outputs": [
    {
     "data": {
      "text/plain": [
       "Start station\n",
       "Columbus Circle / Union Station                        70062\n",
       "Lincoln Memorial                                       65884\n",
       "Jefferson Dr & 14th St SW                              59259\n",
       "Massachusetts Ave & Dupont Circle NW                   46702\n",
       "15th & P St NW                                         43305\n",
       "Jefferson Memorial                                     42525\n",
       "Henry Bacon Dr & Lincoln Memorial Circle NW            40659\n",
       "4th St & Madison Dr NW                                 37751\n",
       "14th & V St NW                                         33159\n",
       "Eastern Market Metro / Pennsylvania Ave & 7th St SE    32404\n",
       "Name: Start station, dtype: int64"
      ]
     },
     "execution_count": 22,
     "metadata": {},
     "output_type": "execute_result"
    }
   ],
   "source": [
    "#Grouping start station's for count\n",
    "mainstart = final.groupby('Start station')['Start station'].count().sort_values(ascending=False)\n",
    "\n",
    "mainstart.head(10)"
   ]
  },
  {
   "cell_type": "code",
   "execution_count": 23,
   "metadata": {},
   "outputs": [],
   "source": [
    "#create df for popular stations \n",
    "data = [['Columbus Circle / Union Station'] , ['Lincoln Memorial'] , ['Jefferson Dr & 14th St SW '] , ['Massachusetts Ave & Dupont Circle NW'],\n",
    "       ['15th & P St NW'], ['Jefferson Memorial'] , ['Henry Bacon Dr & Lincoln Memorial Circle NW  '] , \n",
    "       ['4th St & Madison Dr NW '] , ['14th & V St NW'] ,['Eastern Market Metro / Pennsylvania Ave & 7th St SE']]\n",
    "data1= pd.DataFrame(data, columns = ['station'])\n"
   ]
  },
  {
   "cell_type": "markdown",
   "metadata": {},
   "source": [
    "**Mapping popular start and end stations using folium**"
   ]
  },
  {
   "cell_type": "code",
   "execution_count": 24,
   "metadata": {},
   "outputs": [],
   "source": [
    "#specify geolocator\n",
    "geolocator = Nominatim(user_agent=\"BikeshareGeocoder\")\n",
    "\n",
    "data1['location'] = data1\n",
    "#include function to delay geocoding calls, to overcome denied access by geocoding service provider\n",
    "geocode = RateLimiter(geolocator.geocode, min_delay_seconds=1)\n",
    "\n",
    "#create a location column in dataframe\n",
    "data1['location'] = data1['station'].apply(geocode)\n",
    "\n",
    "#create longitude, laatitude and altitude from location column, returning tuple\n",
    "data1['point'] = data1['location'].apply(lambda loc: tuple(loc.point) if loc else None)\n",
    "\n",
    "#split point column into latitude, longitude and altitude columns and return to dataframe\n",
    "data1[['latitude', 'longitude', 'altitude']] = pd.DataFrame(data1['point'].tolist(), index=data1.index)\n"
   ]
  },
  {
   "cell_type": "code",
   "execution_count": 25,
   "metadata": {},
   "outputs": [
    {
     "data": {
      "text/html": [
       "<div style=\"width:100%;\"><div style=\"position:relative;width:100%;height:0;padding-bottom:60%;\"><iframe src=\"data:text/html;charset=utf-8;base64,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\" style=\"position:absolute;width:100%;height:100%;left:0;top:0;border:none !important;\" allowfullscreen webkitallowfullscreen mozallowfullscreen></iframe></div></div>"
      ],
      "text/plain": [
       "<folium.folium.Map at 0x1a46566650>"
      ]
     },
     "execution_count": 25,
     "metadata": {},
     "output_type": "execute_result"
    }
   ],
   "source": [
    "#using the same specifics, map station\n",
    "folium_map = folium.Map(location=[38.9, -77.05],\n",
    "                        zoom_start=12,\n",
    "                        tiles='CartoDB dark_matter')\n",
    "\n",
    "\n",
    "FastMarkerCluster(data=list(zip(data1['latitude'].values, q1trips['longitude'].values))).add_to(folium_map)\n",
    "folium.LayerControl().add_to(folium_map)\n",
    "folium_map"
   ]
  },
  {
   "cell_type": "code",
   "execution_count": 26,
   "metadata": {},
   "outputs": [
    {
     "data": {
      "text/plain": [
       "End station\n",
       "Columbus Circle / Union Station         71508\n",
       "Jefferson Dr & 14th St SW               55682\n",
       "Lincoln Memorial                        54993\n",
       "Massachusetts Ave & Dupont Circle NW    49531\n",
       "15th & P St NW                          45488\n",
       "Name: End station, dtype: int64"
      ]
     },
     "execution_count": 26,
     "metadata": {},
     "output_type": "execute_result"
    }
   ],
   "source": [
    "#calculating end stations\n",
    "mainend = final.groupby('End station')['End station'].count().sort_values(ascending=False)\n",
    "mainend.head(5)"
   ]
  },
  {
   "cell_type": "code",
   "execution_count": 27,
   "metadata": {},
   "outputs": [
    {
     "data": {
      "text/html": [
       "<div>\n",
       "<style scoped>\n",
       "    .dataframe tbody tr th:only-of-type {\n",
       "        vertical-align: middle;\n",
       "    }\n",
       "\n",
       "    .dataframe tbody tr th {\n",
       "        vertical-align: top;\n",
       "    }\n",
       "\n",
       "    .dataframe thead th {\n",
       "        text-align: right;\n",
       "    }\n",
       "</style>\n",
       "<table border=\"1\" class=\"dataframe\">\n",
       "  <thead>\n",
       "    <tr style=\"text-align: right;\">\n",
       "      <th></th>\n",
       "      <th>Start station</th>\n",
       "      <th>End station</th>\n",
       "      <th>Combo</th>\n",
       "    </tr>\n",
       "  </thead>\n",
       "  <tbody>\n",
       "    <tr>\n",
       "      <th>0</th>\n",
       "      <td>3rd &amp; Tingey St SE</td>\n",
       "      <td>M St &amp; New Jersey Ave SE</td>\n",
       "      <td>3rd &amp; Tingey St SE + M St &amp; New Jersey Ave SE</td>\n",
       "    </tr>\n",
       "    <tr>\n",
       "      <th>1</th>\n",
       "      <td>3rd &amp; Tingey St SE</td>\n",
       "      <td>D St &amp; Maryland Ave NE</td>\n",
       "      <td>3rd &amp; Tingey St SE + D St &amp; Maryland Ave NE</td>\n",
       "    </tr>\n",
       "    <tr>\n",
       "      <th>2</th>\n",
       "      <td>3rd &amp; Tingey St SE</td>\n",
       "      <td>D St &amp; Maryland Ave NE</td>\n",
       "      <td>3rd &amp; Tingey St SE + D St &amp; Maryland Ave NE</td>\n",
       "    </tr>\n",
       "    <tr>\n",
       "      <th>3</th>\n",
       "      <td>3rd &amp; Tingey St SE</td>\n",
       "      <td>1st &amp; K St SE</td>\n",
       "      <td>3rd &amp; Tingey St SE + 1st &amp; K St SE</td>\n",
       "    </tr>\n",
       "    <tr>\n",
       "      <th>4</th>\n",
       "      <td>3rd &amp; Tingey St SE</td>\n",
       "      <td>3rd &amp; Tingey St SE</td>\n",
       "      <td>3rd &amp; Tingey St SE + 3rd &amp; Tingey St SE</td>\n",
       "    </tr>\n",
       "  </tbody>\n",
       "</table>\n",
       "</div>"
      ],
      "text/plain": [
       "        Start station               End station  \\\n",
       "0  3rd & Tingey St SE  M St & New Jersey Ave SE   \n",
       "1  3rd & Tingey St SE    D St & Maryland Ave NE   \n",
       "2  3rd & Tingey St SE    D St & Maryland Ave NE   \n",
       "3  3rd & Tingey St SE             1st & K St SE   \n",
       "4  3rd & Tingey St SE        3rd & Tingey St SE   \n",
       "\n",
       "                                           Combo  \n",
       "0  3rd & Tingey St SE + M St & New Jersey Ave SE  \n",
       "1    3rd & Tingey St SE + D St & Maryland Ave NE  \n",
       "2    3rd & Tingey St SE + D St & Maryland Ave NE  \n",
       "3             3rd & Tingey St SE + 1st & K St SE  \n",
       "4        3rd & Tingey St SE + 3rd & Tingey St SE  "
      ]
     },
     "execution_count": 27,
     "metadata": {},
     "output_type": "execute_result"
    }
   ],
   "source": [
    "#combining start and end station combination's\n",
    "combining = final.copy()\n",
    "combining = combining[['Start station', 'End station']]\n",
    "combining['Combo'] = combining['Start station'] + ' + ' + combining['End station']\n",
    "combining.head()"
   ]
  },
  {
   "cell_type": "code",
   "execution_count": 28,
   "metadata": {},
   "outputs": [
    {
     "data": {
      "text/plain": [
       "Combo\n",
       "Jefferson Dr & 14th St SW + Jefferson Dr & 14th St SW                                                  7458\n",
       "Lincoln Memorial + Jefferson Memorial                                                                  7166\n",
       "Jefferson Dr & 14th St SW + Lincoln Memorial                                                           6368\n",
       "Lincoln Memorial + Lincoln Memorial                                                                    5193\n",
       "Lincoln Memorial + Jefferson Dr & 14th St SW                                                           5173\n",
       "Columbus Circle / Union Station + 8th & F St NE                                                        4145\n",
       "Jefferson Memorial + Lincoln Memorial                                                                  4029\n",
       "8th & F St NE + Columbus Circle / Union Station                                                        3862\n",
       "4th St & Madison Dr NW + 4th St & Madison Dr NW                                                        3851\n",
       "Lincoln Memorial + Smithsonian-National Mall / Jefferson Dr & 12th St SW                               3519\n",
       "Ohio Dr & West Basin Dr SW / MLK & FDR Memorials + Ohio Dr & West Basin Dr SW / MLK & FDR Memorials    3512\n",
       "Columbus Circle / Union Station + 6th & H St NE                                                        3269\n",
       "Jefferson Memorial + Jefferson Memorial                                                                3115\n",
       "Henry Bacon Dr & Lincoln Memorial Circle NW + Henry Bacon Dr & Lincoln Memorial Circle NW              3078\n",
       "Ohio Dr & West Basin Dr SW / MLK & FDR Memorials + Jefferson Memorial                                  2811\n",
       "Jefferson Memorial + Jefferson Dr & 14th St SW                                                         2761\n",
       "Henry Bacon Dr & Lincoln Memorial Circle NW + Jefferson Dr & 14th St SW                                2752\n",
       "Jefferson Dr & 14th St SW + Henry Bacon Dr & Lincoln Memorial Circle NW                                2748\n",
       "Eastern Market Metro / Pennsylvania Ave & 7th St SE + Lincoln Park / 13th & East Capitol St NE         2728\n",
       "6th & H St NE + Columbus Circle / Union Station                                                        2724\n",
       "Name: Combo, dtype: int64"
      ]
     },
     "execution_count": 28,
     "metadata": {},
     "output_type": "execute_result"
    }
   ],
   "source": [
    "#Calculating number of combination instances from above calculations\n",
    "maincombo = combining.groupby('Combo')['Combo'].count().sort_values(ascending=False)\n",
    "maincombo.head(20)"
   ]
  },
  {
   "cell_type": "markdown",
   "metadata": {},
   "source": [
    "This finding can be interesting for bikeshare schemes, because micro-mobility depends a lot on user satisfaction and ease, by making sure adequate bikes are docked this can enhance the user experience and therefore create more popularity for bikeshare schemes. As a result, it can also attract casual riders to pay for membership. This is the goal of micro-mobility schemes in general to attract more frequent users both for casual and commuting trips. "
   ]
  },
  {
   "cell_type": "markdown",
   "metadata": {},
   "source": [
    "## Trip Duration Comparison: Annual and Casual Members"
   ]
  },
  {
   "cell_type": "markdown",
   "metadata": {},
   "source": [
    "Finally, we look at averaged trips taken between members and casual riders and their duration, this will help us understand whether users typically use bikeshare schemes for longer or shorter distances. "
   ]
  },
  {
   "cell_type": "code",
   "execution_count": 29,
   "metadata": {},
   "outputs": [
    {
     "name": "stderr",
     "output_type": "stream",
     "text": [
      "/Users/yasminbuzari/opt/anaconda3/envs/myenv/lib/python3.7/site-packages/pandas/plotting/_matplotlib/hist.py:316: MatplotlibDeprecationWarning: \n",
      "The 'normed' kwarg was deprecated in Matplotlib 2.1 and will be removed in 3.1. Use 'density' instead.\n",
      "  ax.hist(values, bins=bins, **kwds)\n"
     ]
    },
    {
     "data": {
      "text/plain": [
       "<matplotlib.legend.Legend at 0x1a46e9a3d0>"
      ]
     },
     "execution_count": 29,
     "metadata": {},
     "output_type": "execute_result"
    },
    {
     "data": {
      "image/png": "[encoded data removed]",
      "text/plain": [
       "<Figure size 432x288 with 1 Axes>"
      ]
     },
     "metadata": {},
     "output_type": "display_data"
    }
   ],
   "source": [
    "#convert trip duration feature to minutes \n",
    "trips2017['minutes'] = trips2017.Duration / 60 \n",
    "\n",
    "\n",
    "#specify groups by member type and minutes to plot graph\n",
    "trips2017.groupby('Member type')['minutes'].hist(bins=np.arange(61), alpha=0.5, normed=True);\n",
    "plt.xlabel('Duration (minutes)')\n",
    "plt.ylabel('Relative Frequency')\n",
    "plt.title('Trip Durations')\n",
    "\n",
    "plt.legend(['Bikeshare Members', 'Casual Riders'])\n"
   ]
  },
  {
   "cell_type": "markdown",
   "metadata": {},
   "source": [
    "Comment: We can observe a typical bike trip in minutes against the frequency. Again this highlights an initial observation made that annual members commute longer distances, with less frequency. So for example, during the work week a single individual would take an out and back journey covering a larger distance, where as a casual rider may take multiple journey's at shorter distances. To graph the plot above, inferences were made from this source: https://jakevdp.github.io/"
   ]
  },
  {
   "cell_type": "markdown",
   "metadata": {},
   "source": [
    "**Observing trip average by hour on weekday and weekends**"
   ]
  },
  {
   "cell_type": "markdown",
   "metadata": {},
   "source": [
    "We can now take an even closer look on an hourly basis, this gives us insight whether we can assume that casual rider trips exceed members during weekends"
   ]
  },
  {
   "cell_type": "code",
   "execution_count": 31,
   "metadata": {},
   "outputs": [
    {
     "data": {
      "image/png": "[encoded data removed]",
      "text/plain": [
       "<Figure size 1152x432 with 2 Axes>"
      ]
     },
     "metadata": {},
     "output_type": "display_data"
    }
   ],
   "source": [
    "# count trips by date and by hour\n",
    "hr = trips2017.pivot_table('trip_id', aggfunc='count',\n",
    "                            index=['date', 'hour'],\n",
    "                            columns='Member type').fillna(0).reset_index('hour')\n",
    "\n",
    "# average these counts by weekend\n",
    "hr['weekend'] = (hr.index.dayofweek >= 5)\n",
    "hr = hr.groupby(['weekend', 'hour']).mean()\n",
    "hr.index.set_levels([['weekday', 'weekend'],\n",
    "                          [\"{0}:00\".format(i) for i in range(24)]],\n",
    "                         inplace=True);\n",
    "\n",
    "\n",
    "#plot graphs\n",
    "fig, ax = plt.subplots(1, 2, figsize=(16, 6), sharey=True)\n",
    "hr.loc['weekday'].plot(title='Average Hourly Use (Mon-Fri)', ax=ax[0])\n",
    "hr.loc['weekend'].plot(title='Average Hourly Use (Sat-Sun)', ax=ax[1])\n",
    "ax[0].set_ylabel('Average Trips per Hour');"
   ]
  },
  {
   "cell_type": "markdown",
   "metadata": {},
   "source": [
    "We can observe a difference here in peaks for members, showing commuting patterns that fit within the work day with peaks in the mornings and evenings. For casual riders, fewer trips elongated throughout the day show a more recreational usem with its highest peak in the afternoon. To graph the following plots, inferences were made from this source: https://jakevdp.github.io/"
   ]
  },
  {
   "cell_type": "markdown",
   "metadata": {},
   "source": [
    "Word Count: 1,386"
   ]
  },
  {
   "cell_type": "code",
   "execution_count": null,
   "metadata": {},
   "outputs": [],
   "source": []
  }
 ],
 "metadata": {
  "kernelspec": {
   "display_name": "Python [conda env:myenv] *",
   "language": "python",
   "name": "conda-env-myenv-py"
  }
 },
 "nbformat": 4,
 "nbformat_minor": 2
}
